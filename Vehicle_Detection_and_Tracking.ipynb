{
 "cells": [
  {
   "cell_type": "markdown",
   "metadata": {},
   "source": [
    "# Vehicle Detection & Tracking\n",
    "Udacity Project 5\n",
    "Author: Kelly Smith\n",
    "\n",
    "This Jupyter Notebook will train a classifier to identify vehicles using classic computer vision techniques (HOG, color histograms, sliding windows). "
   ]
  },
  {
   "cell_type": "code",
   "execution_count": 47,
   "metadata": {
    "collapsed": false
   },
   "outputs": [],
   "source": [
    "# Import statements to get all requisite packages\n",
    "import numpy as np\n",
    "import cv2\n",
    "import matplotlib.pyplot as plt\n",
    "import matplotlib.image as mpimg\n",
    "import glob\n",
    "import pickle\n",
    "import os.path\n",
    "import sklearn\n",
    "from sklearn.model_selection import train_test_split\n",
    "from sklearn.svm import LinearSVC\n",
    "from sklearn.preprocessing import StandardScaler\n",
    "from skimage.feature import hog"
   ]
  },
  {
   "cell_type": "code",
   "execution_count": 48,
   "metadata": {
    "collapsed": true
   },
   "outputs": [],
   "source": [
    "# Define constants for the pipeline\n",
    "trainingDataFilename = \"trainingData.p\""
   ]
  },
  {
   "cell_type": "code",
   "execution_count": 2,
   "metadata": {
    "collapsed": true
   },
   "outputs": [],
   "source": [
    "\"\"\"\n",
    "This will be the main function for processing an image, detecting and localizing the vehicles.\n",
    "\"\"\"\n",
    "def processImg(img):\n",
    "    pass"
   ]
  },
  {
   "cell_type": "code",
   "execution_count": 59,
   "metadata": {
    "collapsed": false
   },
   "outputs": [
    {
     "name": "stdout",
     "output_type": "stream",
     "text": [
      "Found existing training data.  Loading that to save time...Complete!\n",
      "Training the classifier...Complete!\n",
      "Test Accuracy of SVC =  0.9285\n"
     ]
    }
   ],
   "source": [
    "\"\"\"\n",
    "This is the test function for executing the overall pipeline on a single image.\n",
    "\"\"\"\n",
    "def test():\n",
    "    \n",
    "    trainClassifier(Debug=True)\n",
    "\n",
    "test()"
   ]
  },
  {
   "cell_type": "code",
   "execution_count": 58,
   "metadata": {
    "collapsed": true
   },
   "outputs": [],
   "source": [
    "\"\"\"\n",
    "This function will train a linear SVM from the sklearn library on the car and non-car images\n",
    "\"\"\"\n",
    "def trainClassifier(Debug=False):\n",
    "    # Instantiate the linear support vector classifier\n",
    "    svc = LinearSVC()\n",
    "    \n",
    "    # If the training data has not been generated yet,\n",
    "    if not os.path.isfile(trainingDataFilename):\n",
    "        # Build the training data.\n",
    "        if Debug:\n",
    "            print(\"No training data detected.  Building training data from scratch (hang tight for a minute)...\", end='')\n",
    "        X_train, y_train, X_test, y_test = buildTrainingData()\n",
    "        if Debug:\n",
    "            print(\"Finished building training data!\")\n",
    "    else:\n",
    "        # Load the existing data.\n",
    "        if Debug:\n",
    "            print(\"Found existing training data.  Loading that to save time...\",end='')\n",
    "        X_train, y_train, X_test, y_test = loadTrainingData()\n",
    "        if Debug:\n",
    "            print(\"Complete!\")\n",
    "    \n",
    "    if Debug:\n",
    "        print(\"Training the classifier...\",end='')\n",
    "    # Train the classifier on the training set.\n",
    "    svc.fit(X_train, y_train)\n",
    "    if Debug:\n",
    "        print(\"Complete!\")\n",
    "    \n",
    "    # Evaluate fit on test set\n",
    "    if Debug:\n",
    "        print('Test Accuracy of SVC = ', round(svc.score(X_test, y_test), 4))\n",
    "    \n",
    "    return svc"
   ]
  },
  {
   "cell_type": "code",
   "execution_count": 20,
   "metadata": {
    "collapsed": true
   },
   "outputs": [],
   "source": [
    "\"\"\"\n",
    "This function will perform a sliding window search over the image to identify vehicles.\n",
    "\"\"\"\n",
    "def slide_window(img, x_start_stop=[None, None], y_start_stop=[None, None], \n",
    "                    xy_window=(64, 64), xy_overlap=(0.5, 0.5)):\n",
    "    if x_start_stop == [None, None]:\n",
    "        x_start_stop = [0, img.shape[1]]\n",
    "    if y_start_stop == [None, None]:\n",
    "        y_start_stop = [0, img.shape[0]]\n",
    "    \n",
    "    spanx = x_start_stop[1] - x_start_stop[0]\n",
    "    spany = y_start_stop[1] - y_start_stop[0]\n",
    "    \n",
    "    dx = np.int((1-xy_overlap[0]) * xy_window[0])\n",
    "    dy = np.int((1-xy_overlap[1]) * xy_window[1])\n",
    "    \n",
    "    nx = np.int(spanx / dx) - 1\n",
    "    ny = np.int(spany / dy) - 1\n",
    "\n",
    "    # Initialize a list to append window positions to\n",
    "    window_list = []\n",
    "    for i in range(nx):\n",
    "        for j in range(ny):\n",
    "            startx = x_start_stop[0] + i*dx\n",
    "            starty = y_start_stop[0] + j*dy\n",
    "            windowPos = ((startx, starty),(startx+xy_window[0], starty+xy_window[1]))\n",
    "            window_list.append(windowPos)\n",
    "            # window_list.append( ((startx, starty), (endx, endy)))\n",
    "    # Loop through finding x and y window positions\n",
    "    #     Note: you could vectorize this step, but in practice\n",
    "    #     you'll be considering windows one by one with your\n",
    "    #     classifier, so looping makes sense\n",
    "        # Calculate each window position\n",
    "        # Append window position to list\n",
    "    # Return the list of windows\n",
    "    return window_list"
   ]
  },
  {
   "cell_type": "code",
   "execution_count": 29,
   "metadata": {
    "collapsed": false
   },
   "outputs": [],
   "source": [
    "\"\"\"Test routine for sliding window algorithm.\"\"\"\n",
    "def test_sliding_window():\n",
    "    img = mpimg.imread(\"test_images/test1.jpg\")\n",
    "    windows = slide_window(img, x_start_stop=[None, None], y_start_stop=[None, None], \n",
    "                    xy_window=(128, 128), xy_overlap=(0.75, 0.75))\n",
    "                       \n",
    "    window_img = draw_boxes(img, windows, color=(0, 0, 255), thick=6)                    \n",
    "    plt.imshow(window_img)\n",
    "    plt.show()\n",
    "    \n",
    "def draw_boxes(img, bboxes, color=(0, 0, 255), thick=6):\n",
    "    # Make a copy of the image\n",
    "    imcopy = np.copy(img)\n",
    "    # Iterate through the bounding boxes\n",
    "    for bbox in bboxes:\n",
    "        # Draw a rectangle given bbox coordinates\n",
    "        cv2.rectangle(imcopy, bbox[0], bbox[1], color, thick)\n",
    "    # Return the image copy with boxes drawn\n",
    "    return imcopy\n",
    "    \n",
    "# test_sliding_window()"
   ]
  },
  {
   "cell_type": "code",
   "execution_count": 60,
   "metadata": {
    "collapsed": false
   },
   "outputs": [],
   "source": [
    "\"\"\"This function will prepare features and labels for training the classifier.\"\"\"\n",
    "def buildTrainingData(spatial=16, histbin=32, SaveData=True, Debug=False):\n",
    "    # Get car features\n",
    "    cars = glob.glob(\"vehicles/*/*.png\")\n",
    "    notcars = glob.glob(\"non-vehicles/*/*.png\") \n",
    "    \n",
    "    if Debug:\n",
    "        print(\"There are %d cars examples.\" % (len(cars)))\n",
    "        print(\"There are %d not-car examples.\" % (len(notcars)))\n",
    "        print(\"Extracting color features for cars...\",end=\"\")\n",
    "    car_features = extract_color_features(cars, cspace='RGB', spatial_size=(spatial, spatial),\n",
    "                            hist_bins=histbin, hist_range=(0, 256))\n",
    "    if Debug:\n",
    "        print(\"Complete!\")\n",
    "        print(\"Extracting color features for non-cars\",end=\"\")\n",
    "    # Get not-car features.\n",
    "    notcar_features = extract_color_features(notcars, cspace='RGB', spatial_size=(spatial, spatial),\n",
    "                            hist_bins=histbin, hist_range=(0, 256))\n",
    "    if Debug:\n",
    "        print(\"Complete!\")\n",
    "    \n",
    "    \n",
    "    # Create an array stack of feature vectors\n",
    "    X = np.vstack((car_features, notcar_features)).astype(np.float64)                        \n",
    "    # Fit a per-column scaler\n",
    "    X_scaler = StandardScaler().fit(X)\n",
    "    # Apply the scaler to X\n",
    "    scaled_X = X_scaler.transform(X)\n",
    "\n",
    "    # Define the labels vector\n",
    "    y = np.hstack((np.ones(len(car_features)), np.zeros(len(notcar_features))))\n",
    "\n",
    "\n",
    "    # Split up data into randomized training and test sets\n",
    "    rand_state = np.random.randint(0, 100)\n",
    "    X_train, X_test, y_train, y_test = train_test_split(\n",
    "        scaled_X, y, test_size=0.2, random_state=rand_state)\n",
    "\n",
    "    # If the SaveData flag is True, then save the data via pickle \n",
    "    # to avoid having to generate training data every time.\n",
    "    if SaveData:\n",
    "        saveTrainingData(X_train, y_train, X_test, y_test)\n",
    "        \n",
    "    return (X_train, y_train, X_test, y_test)\n",
    "\n",
    "\"\"\"This function will save the training data via pickle\"\"\"\n",
    "def saveTrainingData(X_train, y_train, X_test, y_test):\n",
    "    data = {\"X_train\":X_train, \"y_train\":y_train, \"X_test\":X_test, \"y_test\":y_test}\n",
    "    with open (trainingDataFilename,\"wb\") as output_file:\n",
    "        pickle.dump(data, output_file)\n",
    "        print(\"Saved the training data to %s\" % trainingDataFilename)\n",
    "    \n",
    "\"\"\"This function loads existing training data.\"\"\"\n",
    "def loadTrainingData():\n",
    "    with open (trainingDataFilename,\"rb\") as input_file:\n",
    "        data = pickle.load(input_file)\n",
    "    return (data['X_train'], data['y_train'], data['X_test'], data['y_test'])\n",
    "\n",
    "# Define a function to compute binned color features  \n",
    "def bin_spatial(img, size=(32, 32)):\n",
    "    # Use cv2.resize().ravel() to create the feature vector\n",
    "    features = cv2.resize(img, size).ravel() \n",
    "    # Return the feature vector\n",
    "    return features\n",
    "\n",
    "# Define a function to compute color histogram features  \n",
    "def color_hist(img, nbins=32, bins_range=(0, 256)):\n",
    "    # Compute the histogram of the color channels separately\n",
    "    channel1_hist = np.histogram(img[:,:,0], bins=nbins, range=bins_range)\n",
    "    channel2_hist = np.histogram(img[:,:,1], bins=nbins, range=bins_range)\n",
    "    channel3_hist = np.histogram(img[:,:,2], bins=nbins, range=bins_range)\n",
    "    # Concatenate the histograms into a single feature vector\n",
    "    hist_features = np.concatenate((channel1_hist[0], channel2_hist[0], channel3_hist[0]))\n",
    "    # Return the individual histograms, bin_centers and feature vector\n",
    "    return hist_features\n",
    "\n",
    "# Define a function to extract features from a list of images\n",
    "# Have this function call bin_spatial() and color_hist()\n",
    "def extract_color_features(imgs, cspace='RGB', spatial_size=(32, 32),\n",
    "                        hist_bins=32, hist_range=(0, 256)):\n",
    "    # Create a list to append feature vectors to\n",
    "    features = []\n",
    "    # Iterate through the list of images\n",
    "    for file in imgs:\n",
    "        # Read in each one by one\n",
    "        image = mpimg.imread(file)\n",
    "        # apply color conversion if other than 'RGB'\n",
    "        if cspace != 'RGB':\n",
    "            if cspace == 'HSV':\n",
    "                feature_image = cv2.cvtColor(image, cv2.COLOR_RGB2HSV)\n",
    "            elif cspace == 'LUV':\n",
    "                feature_image = cv2.cvtColor(image, cv2.COLOR_RGB2LUV)\n",
    "            elif cspace == 'HLS':\n",
    "                feature_image = cv2.cvtColor(image, cv2.COLOR_RGB2HLS)\n",
    "            elif cspace == 'YUV':\n",
    "                feature_image = cv2.cvtColor(image, cv2.COLOR_RGB2YUV)\n",
    "        else: feature_image = np.copy(image)      \n",
    "        # Apply bin_spatial() to get spatial color features\n",
    "        spatial_features = bin_spatial(feature_image, size=spatial_size)\n",
    "        # Apply color_hist() also with a color space option now\n",
    "        hist_features = color_hist(feature_image, nbins=hist_bins, bins_range=hist_range)\n",
    "        # Append the new feature vector to the features list\n",
    "        features.append(np.concatenate((spatial_features, hist_features)))\n",
    "    # Return list of feature vectors\n",
    "    return features"
   ]
  },
  {
   "cell_type": "code",
   "execution_count": 15,
   "metadata": {
    "collapsed": true
   },
   "outputs": [],
   "source": [
    "\"\"\"\n",
    "This function returns a histogram of oriented gradients\n",
    "\"\"\"\n",
    "# Define a function to return HOG features and visualization\n",
    "def get_hog_features(img, orient, pix_per_cell, cell_per_block, \n",
    "                        vis=False, feature_vec=True):\n",
    "    # Call with two outputs if vis==True\n",
    "    if vis == True:\n",
    "        features, hog_image = hog(img, orientations=orient, pixels_per_cell=(pix_per_cell, pix_per_cell),\n",
    "                                  cells_per_block=(cell_per_block, cell_per_block), transform_sqrt=True, \n",
    "                                  visualise=vis, feature_vector=feature_vec)\n",
    "        return features, hog_image\n",
    "    # Otherwise call with one output\n",
    "    else:      \n",
    "        features = hog(img, orientations=orient, pixels_per_cell=(pix_per_cell, pix_per_cell),\n",
    "                       cells_per_block=(cell_per_block, cell_per_block), transform_sqrt=True, \n",
    "                       visualise=vis, feature_vector=feature_vec)\n",
    "        return features"
   ]
  },
  {
   "cell_type": "code",
   "execution_count": 17,
   "metadata": {
    "collapsed": true
   },
   "outputs": [],
   "source": [
    "# Define a function to extract features from a list of images\n",
    "# Have this function call bin_spatial() and color_hist()\n",
    "def extract_hog_features(imgs, cspace='RGB', orient=9, \n",
    "                        pix_per_cell=8, cell_per_block=2, hog_channel=0):\n",
    "    # Create a list to append feature vectors to\n",
    "    features = []\n",
    "    # Iterate through the list of images\n",
    "    for file in imgs:\n",
    "        # Read in each one by one\n",
    "        image = mpimg.imread(file)\n",
    "        # apply color conversion if other than 'RGB'\n",
    "        if cspace != 'RGB':\n",
    "            if cspace == 'HSV':\n",
    "                feature_image = cv2.cvtColor(image, cv2.COLOR_RGB2HSV)\n",
    "            elif cspace == 'LUV':\n",
    "                feature_image = cv2.cvtColor(image, cv2.COLOR_RGB2LUV)\n",
    "            elif cspace == 'HLS':\n",
    "                feature_image = cv2.cvtColor(image, cv2.COLOR_RGB2HLS)\n",
    "            elif cspace == 'YUV':\n",
    "                feature_image = cv2.cvtColor(image, cv2.COLOR_RGB2YUV)\n",
    "            elif cspace == 'YCrCb':\n",
    "                feature_image = cv2.cvtColor(image, cv2.COLOR_RGB2YCrCb)\n",
    "        else: feature_image = np.copy(image)      \n",
    "\n",
    "        # Call get_hog_features() with vis=False, feature_vec=True\n",
    "        if hog_channel == 'ALL':\n",
    "            hog_features = []\n",
    "            for channel in range(feature_image.shape[2]):\n",
    "                hog_features.append(get_hog_features(feature_image[:,:,channel], \n",
    "                                    orient, pix_per_cell, cell_per_block, \n",
    "                                    vis=False, feature_vec=True))\n",
    "            hog_features = np.ravel(hog_features)        \n",
    "        else:\n",
    "            hog_features = get_hog_features(feature_image[:,:,hog_channel], orient, \n",
    "                        pix_per_cell, cell_per_block, vis=False, feature_vec=True)\n",
    "        # Append the new feature vector to the features list\n",
    "        features.append(hog_features)\n",
    "    # Return list of feature vectors\n",
    "    return features"
   ]
  },
  {
   "cell_type": "code",
   "execution_count": 35,
   "metadata": {
    "collapsed": false
   },
   "outputs": [
    {
     "name": "stdout",
     "output_type": "stream",
     "text": [
      "There are 8792 vehicle images.\n",
      "There are 8968 non-vehicle images.\n"
     ]
    }
   ],
   "source": [
    "def getCarData():\n",
    "    # Read in car and non-car images\n",
    "    car_images = glob.glob('vehicles/*/*.png')\n",
    "    not_car_images = glob.glob('non-vehicles/*/*.png')\n",
    "    cars = []\n",
    "    notcars = []\n",
    "    \n",
    "    print(\"There are %d vehicle images.\" % (len(car_images)))\n",
    "    print(\"There are %d non-vehicle images.\" % (len(not_car_images)))\n",
    "getCarData()"
   ]
  },
  {
   "cell_type": "code",
   "execution_count": null,
   "metadata": {
    "collapsed": true
   },
   "outputs": [],
   "source": []
  }
 ],
 "metadata": {
  "anaconda-cloud": {},
  "kernelspec": {
   "display_name": "Python [conda env:p4]",
   "language": "python",
   "name": "conda-env-p4-py"
  },
  "language_info": {
   "codemirror_mode": {
    "name": "ipython",
    "version": 3
   },
   "file_extension": ".py",
   "mimetype": "text/x-python",
   "name": "python",
   "nbconvert_exporter": "python",
   "pygments_lexer": "ipython3",
   "version": "3.5.2"
  }
 },
 "nbformat": 4,
 "nbformat_minor": 1
}
